{
 "cells": [
  {
   "cell_type": "markdown",
   "metadata": {
    "collapsed": true
   },
   "source": [
    "# <u>Vidjil intallation</u>"
   ]
  },
  {
   "cell_type": "markdown",
   "metadata": {},
   "source": [
    "## 1) Introduction"
   ]
  },
  {
   "cell_type": "markdown",
   "metadata": {},
   "source": [
    "### &nbsp;&nbsp;&nbsp;&nbsp;&nbsp;&nbsp;&nbsp;&nbsp;1.1) Documentation"
   ]
  },
  {
   "cell_type": "markdown",
   "metadata": {},
   "source": [
    "This documentation contains the requierements and installation process to set up Vidgil algorithm.<br>\n",
    "\n",
    "This is dedicated to beginner linux users comfortable with computer science concepts.<br>"
   ]
  },
  {
   "cell_type": "markdown",
   "metadata": {
    "collapsed": true
   },
   "source": [
    "The minimum hardware config is 15Go of hard drive space for mm10 with one reference genome and 6Go of RAM"
   ]
  },
  {
   "cell_type": "markdown",
   "metadata": {},
   "source": [
    "### &nbsp;&nbsp;&nbsp;&nbsp;&nbsp;&nbsp;&nbsp;&nbsp;1.2) Helpers"
   ]
  },
  {
   "cell_type": "markdown",
   "metadata": {
    "collapsed": true
   },
   "source": [
    "Vidjil download : http://bioinfo.lifl.fr/vidjil/"
   ]
  },
  {
   "cell_type": "markdown",
   "metadata": {
    "collapsed": true
   },
   "source": [
    "Vidjil documentation : http://www.vidjil.org/doc/vidjil-algo/"
   ]
  },
  {
   "cell_type": "markdown",
   "metadata": {
    "collapsed": true
   },
   "source": [
    "Open a terminal : right click on the desktop, open terminal"
   ]
  },
  {
   "cell_type": "markdown",
   "metadata": {},
   "source": [
    "## 2) Installations & Requierements"
   ]
  },
  {
   "cell_type": "markdown",
   "metadata": {},
   "source": [
    "In installation steps, make sure you have no error at the end of each command lines. If you do, please contact bastienherve61340@orange.fr"
   ]
  },
  {
   "cell_type": "markdown",
   "metadata": {},
   "source": [
    "### &nbsp;&nbsp;&nbsp;&nbsp;&nbsp;&nbsp;&nbsp;&nbsp;2.1) Install a Virtual Machine tool"
   ]
  },
  {
   "cell_type": "markdown",
   "metadata": {
    "collapsed": true
   },
   "source": [
    "You can install VirtualBox from this link : https://www.virtualbox.org/wiki/Downloads"
   ]
  },
  {
   "cell_type": "markdown",
   "metadata": {
    "collapsed": true
   },
   "source": [
    "You can use any virtual machine tool you want."
   ]
  },
  {
   "cell_type": "markdown",
   "metadata": {},
   "source": [
    "#### &nbsp;&nbsp;&nbsp;&nbsp;&nbsp;&nbsp;&nbsp;&nbsp;&nbsp;&nbsp;&nbsp;&nbsp;&nbsp;&nbsp;&nbsp;&nbsp;2.1.1) Download Linux iso"
   ]
  },
  {
   "cell_type": "markdown",
   "metadata": {
    "collapsed": true
   },
   "source": [
    "An iso is a file that looks like a CD for the machine. You can download an iso to mount a virtual machine in a virtual box.<br >\n",
    "This pipeline works with Ubuntu 18.04, could work with an other distribution or lower Ubuntu version (not tested)."
   ]
  },
  {
   "cell_type": "markdown",
   "metadata": {
    "collapsed": true
   },
   "source": [
    "Get the iso here : https://www.ubuntu.com/download/desktop (take amd64)"
   ]
  },
  {
   "cell_type": "markdown",
   "metadata": {},
   "source": [
    "#### &nbsp;&nbsp;&nbsp;&nbsp;&nbsp;&nbsp;&nbsp;&nbsp;&nbsp;&nbsp;&nbsp;&nbsp;&nbsp;&nbsp;&nbsp;&nbsp;2.1.2) Create your Linux Virtual Machine"
   ]
  },
  {
   "cell_type": "markdown",
   "metadata": {
    "collapsed": true
   },
   "source": [
    "- Run your VirtualBox application.<br >\n",
    "- Go to new, I named mine \"Vidjil\", choose type -> Linux, version Ubuntu 64 bits, memory space 2000Mio, hard drive -> create a virtual hard drive now<br >\n",
    "- File size -> 15Go, VDI, allocate dynamicaly<br >\n",
    "- And create!\n",
    "- Restart your machine"
   ]
  },
  {
   "cell_type": "markdown",
   "metadata": {},
   "source": [
    "### &nbsp;&nbsp;&nbsp;&nbsp;&nbsp;&nbsp;&nbsp;&nbsp;2.2) Install Linux"
   ]
  },
  {
   "cell_type": "markdown",
   "metadata": {
    "collapsed": true
   },
   "source": [
    "- Run your linux virtual machine\n",
    "- First run, it will ask you the iso file (click on the folder and look for the iso file)\n",
    "- Install it with all the updates (you can erase disk and install ubuntu, it is a virtual machine anyway)\n",
    "- Name your machine whatever you want but remember it, it is your user name (mine is : Vidjil)\n",
    "- Wait...\n",
    "- Then, open a terminal, write the line below"
   ]
  },
  {
   "cell_type": "code",
   "execution_count": null,
   "metadata": {
    "collapsed": true
   },
   "outputs": [],
   "source": [
    "### CODE ###\n",
    "#To update the machine\n",
    "sudo apt-get update\n",
    "sudo apt-get -y upgrade"
   ]
  },
  {
   "cell_type": "markdown",
   "metadata": {
    "collapsed": true
   },
   "source": [
    "- Shutdown the linux virtual machine"
   ]
  },
  {
   "cell_type": "markdown",
   "metadata": {},
   "source": [
    "#### &nbsp;&nbsp;&nbsp;&nbsp;&nbsp;&nbsp;&nbsp;&nbsp;&nbsp;&nbsp;&nbsp;&nbsp;&nbsp;&nbsp;&nbsp;&nbsp;2.2.1) Install shared folder"
   ]
  },
  {
   "cell_type": "markdown",
   "metadata": {
    "collapsed": true
   },
   "source": [
    "No need to copy/paste all your data on the virtual machine, just create a shared folder"
   ]
  },
  {
   "cell_type": "markdown",
   "metadata": {
    "collapsed": true
   },
   "source": [
    "Create a Vidjil directory wherever you want, in your Documents for example"
   ]
  },
  {
   "cell_type": "markdown",
   "metadata": {
    "collapsed": true
   },
   "source": [
    "- In machine manager -> share folder\n",
    "- Add new share directory, pathway -> C:\\Users\\your_name\\Documents\\Vidjil\n",
    "- Select auto mount !\n",
    "- In machine manager, go to Settings -> General -> Advanced\n",
    "- Shared paper press to bidirectionnal. Same for copy/paste"
   ]
  },
  {
   "cell_type": "markdown",
   "metadata": {
    "collapsed": true
   },
   "source": [
    "- Run linux virtual machine"
   ]
  },
  {
   "cell_type": "markdown",
   "metadata": {},
   "source": [
    "#### &nbsp;&nbsp;&nbsp;&nbsp;&nbsp;&nbsp;&nbsp;&nbsp;&nbsp;&nbsp;&nbsp;&nbsp;&nbsp;&nbsp;&nbsp;&nbsp;2.2.2) Install CD Guest addition"
   ]
  },
  {
   "cell_type": "markdown",
   "metadata": {
    "collapsed": true
   },
   "source": [
    "- To install the guest addiction. Go in the Virtual Machine menu, Devices -> Insert CD Guest Addition<br>\n",
    "- If you only got a kernel error you can go to the next step. If you got a \"Building the main Guest Additions module... fail\", that means the install failed.\n",
    "If you have trouble to install the CD Guest Addition, you can try to get a more recent version of the CD Guest Addition ( https://download.virtualbox.org/virtualbox/5.2.18/VBoxGuestAdditions_5.2.18.iso ), or in general ( https://download.virtualbox.org/virtualbox/ )<br>\n",
    "Then go the Virtual Machine menu, Devices -> optical drives -> Choose disk image, and look for the file you just downloaded\n",
    "- You can eject VBox disk"
   ]
  },
  {
   "cell_type": "code",
   "execution_count": null,
   "metadata": {},
   "outputs": [],
   "source": [
    "### CODE ###\n",
    "###Change Vidjil by your machine name\n",
    "sudo usermod -aG vboxsf Vidjil"
   ]
  },
  {
   "cell_type": "markdown",
   "metadata": {
    "collapsed": true
   },
   "source": [
    "- Restart linux virtual machine"
   ]
  },
  {
   "cell_type": "markdown",
   "metadata": {
    "collapsed": true
   },
   "source": [
    "From here, you should be able to access the shared directory as an hard drive (with \"sf_\" in front of the share folder name).<br>\n",
    "It will also be accessible at path : /media/sf_Vidjil<br>\n",
    "The path will be very usefull in all command line."
   ]
  },
  {
   "cell_type": "markdown",
   "metadata": {},
   "source": [
    "### &nbsp;&nbsp;&nbsp;&nbsp;&nbsp;&nbsp;&nbsp;&nbsp;2.3) Copy your data"
   ]
  },
  {
   "cell_type": "markdown",
   "metadata": {
    "collapsed": true
   },
   "source": [
    "Copy your data in the shared folder (C:\\Users\\your_name\\Documents\\Vidjil)"
   ]
  },
  {
   "cell_type": "markdown",
   "metadata": {},
   "source": [
    "### &nbsp;&nbsp;&nbsp;&nbsp;&nbsp;&nbsp;&nbsp;&nbsp;2.4) Install Vidjil"
   ]
  },
  {
   "cell_type": "markdown",
   "metadata": {},
   "source": [
    "- Go to http://bioinfo.lifl.fr/vidjil/\n",
    "- Download the last Vidjil version (tar.gz) like : vidjil-algo-2018.06.tar.gz\n",
    "- Move this file to your shared folder (C:\\Users\\your_name\\Documents\\Vidjil)\n",
    "- In your linux virtual machine"
   ]
  },
  {
   "cell_type": "code",
   "execution_count": null,
   "metadata": {},
   "outputs": [],
   "source": [
    "mkdir /home/Vidjil/Documents/Software\n",
    "cd /home/Vidjil/Documents/Software\n",
    "cp /home/Vidjil/Download ./\n",
    "cd /home/Vidjil/Documents/Software\n",
    "# Change with you vidjil version\n",
    "tar zxvf vidjil-algo-2018.06.tar.gz\n",
    "cd vidjil-algo-2018.06\n",
    "make\n",
    "./vidjil-algo -h"
   ]
  },
  {
   "cell_type": "markdown",
   "metadata": {},
   "source": [
    "Then you should get the help of the vidjil program"
   ]
  },
  {
   "cell_type": "markdown",
   "metadata": {},
   "source": [
    "## 3) Start Vidjil"
   ]
  },
  {
   "cell_type": "code",
   "execution_count": null,
   "metadata": {},
   "outputs": [],
   "source": [
    "cd /home/Vidjil/Documents/Software/vidjil-algo-2018.06\n",
    "./vidjil-algo -c clones -g germline/mus-musculus.g -2 -3 /media/sf_Vidjil/F6R6_S46_L001_R1_001..fastaMm_CK_sorted.fasta -o output_F6R6_S46_L001_R1_001..fastaMm_CK_sorted\n",
    "mv -r output_F6R6_S46_L001_R1_001..fastaMm_CK_sorted /media/sf_Vidjil/## 3) Start Vidjil"
   ]
  },
  {
   "cell_type": "markdown",
   "metadata": {},
   "source": [
    "Using Vidjil helpers you can change some parameters to this command line to fit your analysis."
   ]
  },
  {
   "cell_type": "markdown",
   "metadata": {},
   "source": [
    "## 4) Visualize Vidjil output"
   ]
  },
  {
   "cell_type": "markdown",
   "metadata": {},
   "source": [
    "- You should now be able to see the output directory in your share directory on your windows machine (C:\\Users\\your_name\\Documents\\Vidjil)\n",
    "- Open the Vidjil web application\n",
    "- Click on Import data\n",
    "- Chose your C:\\Users\\your_name\\Documents\\Vidjil\\output_F6R6_S46_L001_R1_001..fastaMm_CK_sorted\\F6R6_S46_L001_R1_001..fastaMm_CK_sorted.vidjil"
   ]
  },
  {
   "cell_type": "code",
   "execution_count": null,
   "metadata": {},
   "outputs": [],
   "source": []
  }
 ],
 "metadata": {
  "anaconda-cloud": {},
  "kernelspec": {
   "display_name": "Bash",
   "language": "bash",
   "name": "bash"
  },
  "language_info": {
   "codemirror_mode": "shell",
   "file_extension": ".sh",
   "mimetype": "text/x-sh",
   "name": "bash"
  }
 },
 "nbformat": 4,
 "nbformat_minor": 1
}
